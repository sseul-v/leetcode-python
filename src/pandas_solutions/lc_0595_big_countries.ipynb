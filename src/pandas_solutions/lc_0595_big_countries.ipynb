{
  "cells": [
    {
      "cell_type": "markdown",
      "metadata": {},
      "source": "# 🧩 LeetCode 595 — Big Countries\n> 날짜: **2025-10-16**  \n> 조건: `area >= 3,000,000` **또는** `population >= 25,000,000` 인 나라만 선택하여 `name, population, area` 반환  \n> 링크: https://leetcode.com/problems/big-countries/\n"
    },
    {
      "cell_type": "markdown",
      "metadata": {},
      "source": "## ✅ 문제 요약\n- 입력: `world(name, continent, area, population, gdp)`\n- 출력: `name, population, area` 열만 포함한 표(DataFrame)\n"
    },
    {
      "cell_type": "code",
      "metadata": {},
      "execution_count": null,
      "outputs": [],
      "source": "import pandas as pd"
    },
    {
      "cell_type": "markdown",
      "metadata": {},
      "source": "## ✍️ 풀이 함수"
    },
    {
      "cell_type": "code",
      "metadata": {},
      "execution_count": null,
      "outputs": [],
      "source": "def big_countries(world: pd.DataFrame) -> pd.DataFrame:\n    \"\"\"\n    LeetCode 595. Big Countries (Pandas)\n    - 조건: area >= 3,000,000 또는 population >= 25,000,000\n    - 반환: ['name', 'population', 'area']\n    - 정렬 요건 없음(any order)\n    \"\"\"\n    mask = (world[\"area\"] >= 3_000_000) | (world[\"population\"] >= 25_000_000)\n    return world.loc[mask, [\"name\", \"population\", \"area\"]]\n"
    },
    {
      "cell_type": "markdown",
      "metadata": {},
      "source": "## 🧪 예시 데이터로 확인"
    },
    {
      "cell_type": "code",
      "metadata": {},
      "execution_count": null,
      "outputs": [],
      "source": "data = {\n    \"name\": [\"Afghanistan\", \"Albania\", \"Algeria\", \"Andorra\", \"Angola\"],\n    \"continent\": [\"Asia\", \"Europe\", \"Africa\", \"Europe\", \"Africa\"],\n    \"area\": [652230, 28748, 2381741, 468, 1246700],\n    \"population\": [25500100, 2831741, 37100000, 78115, 20609294],\n    \"gdp\": [20343000000, 12960000000, 188681000000, 3712000000, 100990000000],\n}\nworld = pd.DataFrame(data)\nbig_countries(world)\n"
    },
    {
      "cell_type": "markdown",
      "metadata": {},
      "source": "## 📘 해설 (아주 쉽게)\n- `world['area'] >= 3_000_000` : 면적이 큰 나라 체크(True/False)\n- `world['population'] >= 25_000_000` : 인구가 많은 나라 체크(True/False)\n- `|`(또는)로 합쳐서 둘 중 하나라도 True면 선택\n- `loc[조건, ['name','population','area']]` 로 필요한 열만 반환\n"
    },
    {
      "cell_type": "markdown",
      "metadata": {},
      "source": "> 체크리스트\n- [x] 반환 컬럼 순서: name, population, area\n- [x] 정렬 요구 없음\n- [x] 숫자 표기(언더스코어)는 가독성용으로 동작 동일\n"
    }
  ],
  "metadata": {
    "kernelspec": {
      "display_name": "Python 3",
      "language": "python",
      "name": "python3"
    },
    "language_info": {
      "name": "python",
      "version": "3.x"
    }
  },
  "nbformat": 4,
  "nbformat_minor": 5
}