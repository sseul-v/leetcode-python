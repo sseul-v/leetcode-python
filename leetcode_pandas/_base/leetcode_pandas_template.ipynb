{
  "cells": [
    {
      "cell_type": "markdown",
      "metadata": {},
      "source": [
        "## LeetCode Pandas Template\n",
        "> 날짜: **2025-10-16**  \n",
        "> 문제 번호: **LC XXXX**  \n",
        "> 제목: **(문제명 입력)**  \n",
        "> 링크: https://leetcode.com/problems/xxxx/\n"
      ]
    },
    {
      "cell_type": "markdown",
      "metadata": {},
      "source": [
        "### 문제 요약\n",
        "- 입력 스키마: (컬럼/타입)\n",
        "- 출력 스키마: (컬럼/타입)\n"
      ]
    },
    {
      "cell_type": "code",
      "execution_count": null,
      "metadata": {},
      "outputs": [],
      "source": [
        "# 라이브러리 로드\n",
        "import pandas as pd\n"
      ]
    },
    {
      "cell_type": "markdown",
      "metadata": {},
      "source": [
        "### 풀이 함수 (여기에 구현)"
      ]
    },
    {
      "cell_type": "code",
      "execution_count": null,
      "metadata": {},
      "outputs": [],
      "source": [
        "def solve(df: pd.DataFrame) -> pd.DataFrame:\n",
        "    \"\"\"\n",
        "    여기에 문제 요구사항을 주석으로 정리하세요.\n",
        "    - 조건/필터\n",
        "    - 정렬/그룹핑/머지\n",
        "    - 반환 컬럼\n",
        "    \"\"\"\n",
        "    # TODO: 구현\n",
        "    return df  # 임시 반환; 수정하세요\n"
      ]
    },
    {
      "cell_type": "markdown",
      "metadata": {},
      "source": [
        "### 예시 데이터로 빠른 확인"
      ]
    },
    {
      "cell_type": "code",
      "execution_count": null,
      "metadata": {},
      "outputs": [],
      "source": [
        "# 예시 데이터 (필요에 맞게 수정)\n",
        "sample = pd.DataFrame({\n",
        "    # \"col1\": [...],\n",
        "    # \"col2\": [...],\n",
        "})\n",
        "solve(sample)\n"
      ]
    },
    {
      "cell_type": "markdown",
      "metadata": {},
      "source": [
        "### 해설/노트\n",
        "- 핵심 포인트:\n",
        "  - (예) 불리언 마스크: (df['A'] == 1) & (df['B'] > 0)\n",
        "  - (예) 열 선택: df.loc[mask, ['col1','col2']]\n",
        "- 복잡도/대안:\n",
        "  - (예) groupby/merge로도 가능\n"
      ]
    }
  ],
  "metadata": {
    "kernelspec": {
      "display_name": "Python 3",
      "language": "python",
      "name": "python3"
    },
    "language_info": {
      "name": "python",
      "version": "3.x"
    }
  },
  "nbformat": 4,
  "nbformat_minor": 5
}
