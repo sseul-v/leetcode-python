{
  "cells": [
    {
      "cell_type": "markdown",
      "id": "1fa4abfa",
      "metadata": {},
      "source": [
        "## LeetCode 1757 - Recyclable and Low Fat Products\n",
        "> 날짜: **2025-10-18**  \n",
        "> 조건: `low_fats == 'Y'` 이고 `recyclable == 'Y'` 인 제품만 추출  \n",
        "> 링크: https://leetcode.com/problems/recyclable-and-low-fat-products/\n"
      ]
    },
    {
      "cell_type": "markdown",
      "id": "22ea8abb",
      "metadata": {},
      "source": [
        "### 문제 요약\n",
        "- 입력: `Products(product_id:int, low_fats:enum('Y','N'), recyclable:enum('Y','N'))`\n",
        "- 출력: `product_id` 열만 포함한 DataFrame"
      ]
    },
    {
      "cell_type": "code",
      "execution_count": 2,
      "id": "ba6bbfee",
      "metadata": {},
      "outputs": [],
      "source": [
        "import pandas as pd"
      ]
    },
    {
      "cell_type": "markdown",
      "id": "4e47ddc5",
      "metadata": {},
      "source": [
        "### 풀이 코드"
      ]
    },
    {
      "cell_type": "code",
      "execution_count": 3,
      "id": "623634aa",
      "metadata": {},
      "outputs": [],
      "source": [
        "def find_products(products: pd.DataFrame) -> pd.DataFrame:\n",
        "    \"\"\"\n",
        "    1757. 재활용 가능 및 저지방 제품 찾기\n",
        "    - 조건: low_fats == 'Y' 이고 recyclable == 'Y'\n",
        "    - 반환: ['product_id'] 열만 포함한 DataFrame\n",
        "    \"\"\"\n",
        "    mask = (products[\"low_fats\"] == \"Y\") & (products[\"recyclable\"] == \"Y\")\n",
        "    return products.loc[mask, [\"product_id\"]]\n"
      ]
    },
    {
      "cell_type": "markdown",
      "id": "f7851259",
      "metadata": {},
      "source": [
        "### 예시 데이터 테스트"
      ]
    },
    {
      "cell_type": "code",
      "execution_count": 4,
      "id": "50fd5e32",
      "metadata": {},
      "outputs": [
        {
          "data": {
            "text/html": [
              "<div>\n",
              "<style scoped>\n",
              "    .dataframe tbody tr th:only-of-type {\n",
              "        vertical-align: middle;\n",
              "    }\n",
              "\n",
              "    .dataframe tbody tr th {\n",
              "        vertical-align: top;\n",
              "    }\n",
              "\n",
              "    .dataframe thead th {\n",
              "        text-align: right;\n",
              "    }\n",
              "</style>\n",
              "<table border=\"1\" class=\"dataframe\">\n",
              "  <thead>\n",
              "    <tr style=\"text-align: right;\">\n",
              "      <th></th>\n",
              "      <th>product_id</th>\n",
              "    </tr>\n",
              "  </thead>\n",
              "  <tbody>\n",
              "    <tr>\n",
              "      <th>1</th>\n",
              "      <td>1</td>\n",
              "    </tr>\n",
              "    <tr>\n",
              "      <th>3</th>\n",
              "      <td>3</td>\n",
              "    </tr>\n",
              "  </tbody>\n",
              "</table>\n",
              "</div>"
            ],
            "text/plain": [
              "   product_id\n",
              "1           1\n",
              "3           3"
            ]
          },
          "execution_count": 4,
          "metadata": {},
          "output_type": "execute_result"
        }
      ],
      "source": [
        "data = {\n",
        "    \"product_id\": [0, 1, 2, 3, 4],\n",
        "    \"low_fats\":   [\"Y\", \"Y\", \"N\", \"Y\", \"N\"],\n",
        "    \"recyclable\": [\"N\", \"Y\", \"Y\", \"Y\", \"N\"],\n",
        "}\n",
        "df = pd.DataFrame(data)\n",
        "find_products(df)\n"
      ]
    },
    {
      "cell_type": "markdown",
      "id": "3dc3e607",
      "metadata": {},
      "source": [
        "### 해설\n",
        "- `products['low_fats'] == 'Y'` → 저지방인 행만 True로 표시\n",
        "- `products['recyclable'] == 'Y'` → 재활용 가능한 행만 True로 표시\n",
        "- 두 조건을 `&`로 묶으면 **두 조건을 모두 만족하는 행**만 True\n",
        "- `loc[mask, ['product_id']]` 로 `product_id`만 남겨서 반환\n"
      ]
    }
  ],
  "metadata": {
    "kernelspec": {
      "display_name": ".venv",
      "language": "python",
      "name": "python3"
    },
    "language_info": {
      "codemirror_mode": {
        "name": "ipython",
        "version": 3
      },
      "file_extension": ".py",
      "mimetype": "text/x-python",
      "name": "python",
      "nbconvert_exporter": "python",
      "pygments_lexer": "ipython3",
      "version": "3.9.6"
    }
  },
  "nbformat": 4,
  "nbformat_minor": 5
}
