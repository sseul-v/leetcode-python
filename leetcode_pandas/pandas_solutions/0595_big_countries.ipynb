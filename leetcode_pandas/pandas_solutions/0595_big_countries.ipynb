{
  "cells": [
    {
      "cell_type": "markdown",
      "id": "adb09fd9",
      "metadata": {},
      "source": [
        "## LeetCode 595 — Big Countries\n",
        "> 날짜: **2025-10-16**  \n",
        "> 조건: `area >= 3,000,000` **또는** `population >= 25,000,000` 인 나라만 선택하여 `name, population, area` 반환  \n",
        "> 링크: https://leetcode.com/problems/big-countries/\n"
      ]
    },
    {
      "cell_type": "markdown",
      "id": "d123c7de",
      "metadata": {},
      "source": [
        "### 문제 요약\n",
        "- 입력: `world(name, continent, area, population, gdp)`\n",
        "- 출력: `name, population, area` 열만 포함한 표(DataFrame)\n"
      ]
    },
    {
      "cell_type": "code",
      "execution_count": 4,
      "id": "315014f1",
      "metadata": {},
      "outputs": [],
      "source": [
        "import pandas as pd"
      ]
    },
    {
      "cell_type": "markdown",
      "id": "ac84fd65",
      "metadata": {},
      "source": [
        "### 풀이 함수"
      ]
    },
    {
      "cell_type": "code",
      "execution_count": 5,
      "id": "2d051b33",
      "metadata": {},
      "outputs": [],
      "source": [
        "def big_countries(world: pd.DataFrame) -> pd.DataFrame:\n",
        "    \"\"\"\n",
        "    LeetCode 595. Big Countries (Pandas)\n",
        "    - 조건: area >= 3,000,000 또는 population >= 25,000,000\n",
        "    - 반환: ['name', 'population', 'area']\n",
        "    - 정렬 요건 없음(any order)\n",
        "    \"\"\"\n",
        "    mask = (world[\"area\"] >= 3_000_000) | (world[\"population\"] >= 25_000_000)\n",
        "    return world.loc[mask, [\"name\", \"population\", \"area\"]]\n"
      ]
    },
    {
      "cell_type": "markdown",
      "id": "e8ad4f95",
      "metadata": {},
      "source": [
        "### 예시 데이터로 확인"
      ]
    },
    {
      "cell_type": "code",
      "execution_count": 6,
      "id": "c554246b",
      "metadata": {},
      "outputs": [
        {
          "data": {
            "text/html": [
              "<div>\n",
              "<style scoped>\n",
              "    .dataframe tbody tr th:only-of-type {\n",
              "        vertical-align: middle;\n",
              "    }\n",
              "\n",
              "    .dataframe tbody tr th {\n",
              "        vertical-align: top;\n",
              "    }\n",
              "\n",
              "    .dataframe thead th {\n",
              "        text-align: right;\n",
              "    }\n",
              "</style>\n",
              "<table border=\"1\" class=\"dataframe\">\n",
              "  <thead>\n",
              "    <tr style=\"text-align: right;\">\n",
              "      <th></th>\n",
              "      <th>name</th>\n",
              "      <th>population</th>\n",
              "      <th>area</th>\n",
              "    </tr>\n",
              "  </thead>\n",
              "  <tbody>\n",
              "    <tr>\n",
              "      <th>0</th>\n",
              "      <td>Afghanistan</td>\n",
              "      <td>25500100</td>\n",
              "      <td>652230</td>\n",
              "    </tr>\n",
              "    <tr>\n",
              "      <th>2</th>\n",
              "      <td>Algeria</td>\n",
              "      <td>37100000</td>\n",
              "      <td>2381741</td>\n",
              "    </tr>\n",
              "  </tbody>\n",
              "</table>\n",
              "</div>"
            ],
            "text/plain": [
              "          name  population     area\n",
              "0  Afghanistan    25500100   652230\n",
              "2      Algeria    37100000  2381741"
            ]
          },
          "execution_count": 6,
          "metadata": {},
          "output_type": "execute_result"
        }
      ],
      "source": [
        "data = {\n",
        "    \"name\": [\"Afghanistan\", \"Albania\", \"Algeria\", \"Andorra\", \"Angola\"],\n",
        "    \"continent\": [\"Asia\", \"Europe\", \"Africa\", \"Europe\", \"Africa\"],\n",
        "    \"area\": [652230, 28748, 2381741, 468, 1246700],\n",
        "    \"population\": [25500100, 2831741, 37100000, 78115, 20609294],\n",
        "    \"gdp\": [20343000000, 12960000000, 188681000000, 3712000000, 100990000000],\n",
        "}\n",
        "world = pd.DataFrame(data)\n",
        "big_countries(world)\n"
      ]
    },
    {
      "cell_type": "markdown",
      "id": "53d10b68",
      "metadata": {},
      "source": [
        "### 해설\n",
        "- `world['area'] >= 3_000_000` : 면적이 큰 나라 체크(True/False)\n",
        "- `world['population'] >= 25_000_000` : 인구가 많은 나라 체크(True/False)\n",
        "- `|`(또는)로 합쳐서 둘 중 하나라도 True면 선택\n",
        "- `loc[조건, ['name','population','area']]` 로 필요한 열만 반환\n"
      ]
    }
  ],
  "metadata": {
    "kernelspec": {
      "display_name": ".venv",
      "language": "python",
      "name": "python3"
    },
    "language_info": {
      "codemirror_mode": {
        "name": "ipython",
        "version": 3
      },
      "file_extension": ".py",
      "mimetype": "text/x-python",
      "name": "python",
      "nbconvert_exporter": "python",
      "pygments_lexer": "ipython3",
      "version": "3.9.6"
    }
  },
  "nbformat": 4,
  "nbformat_minor": 5
}
